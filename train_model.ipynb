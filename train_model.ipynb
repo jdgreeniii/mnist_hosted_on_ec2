{
 "cells": [
  {
   "cell_type": "code",
   "execution_count": 1,
   "id": "b7fbd06a-ef3c-430f-9906-b5c7a62106a7",
   "metadata": {},
   "outputs": [],
   "source": [
    "import numpy as np\n",
    "import tensorflow as tf\n",
    "from tensorflow import keras\n",
    "from tensorflow.keras import layers\n",
    "import numpy as np\n",
    "import matplotlib.pyplot as plt\n",
    "import keras_tuner as kt"
   ]
  },
  {
   "cell_type": "code",
   "execution_count": 2,
   "id": "39b50d7a-7428-4358-b076-2475f6d5efef",
   "metadata": {},
   "outputs": [
    {
     "name": "stdout",
     "output_type": "stream",
     "text": [
      "WARNING:tensorflow:Mixed precision compatibility check (mixed_float16): WARNING\n",
      "The dtype policy mixed_float16 may run slowly because this machine does not have a GPU. Only Nvidia GPUs with compute capability of at least 7.0 run quickly with mixed_float16.\n",
      "If you will use compatible GPU(s) not attached to this host, e.g. by running a multi-worker model, you can ignore this warning. This message will only be logged once\n"
     ]
    }
   ],
   "source": [
    "keras.mixed_precision.set_global_policy(\"mixed_float16\")"
   ]
  },
  {
   "cell_type": "code",
   "execution_count": 3,
   "id": "8e50af67-1047-4618-89e9-257103301b7d",
   "metadata": {},
   "outputs": [],
   "source": [
    "(x_train, y_train), (x_test, y_test) = tf.keras.datasets.mnist.load_data(path='mnist.npz')"
   ]
  },
  {
   "cell_type": "code",
   "execution_count": 4,
   "id": "75a31825-a855-4907-ba2f-82f92a048fbe",
   "metadata": {},
   "outputs": [],
   "source": [
    "x_train = x_train.reshape((-1, 28 * 28)).astype(\"float32\") / 255\n",
    "x_test = x_test.reshape((-1, 28 * 28)).astype(\"float32\") / 255\n",
    "x_train_full = x_train[:]\n",
    "y_train_full = y_train[:]"
   ]
  },
  {
   "cell_type": "code",
   "execution_count": 5,
   "id": "cae3751d-3f5f-4f49-b839-4cd82399d372",
   "metadata": {},
   "outputs": [],
   "source": [
    "num_val_samples = 10000\n",
    "x_train, x_val = x_train[:-num_val_samples], x_train[-num_val_samples:]\n",
    "y_train, y_val = y_train[:-num_val_samples], y_train[-num_val_samples:]"
   ]
  },
  {
   "cell_type": "code",
   "execution_count": 6,
   "id": "e6424aef-8ed5-40c5-a4af-48c5c3d9d8ac",
   "metadata": {},
   "outputs": [],
   "source": [
    "callbacks = [keras.callbacks.EarlyStopping(monitor=\"val_loss\", patience=5)]"
   ]
  },
  {
   "cell_type": "code",
   "execution_count": 7,
   "id": "7472fcb0-46ee-43bf-a332-038372c8eee4",
   "metadata": {},
   "outputs": [],
   "source": [
    "def build_model(hp):\n",
    "    units = hp.Int(name=\"units\", min_value=16, max_value=64, step=16)\n",
    "    model = keras.Sequential([\n",
    "        layers.Dense(units, activation=\"relu\"),\n",
    "        layers.Dense(10, activation=\"softmax\")\n",
    "    ])\n",
    "    optimizer = hp.Choice(name=\"optimizer\", values=[\"rmsprop\", \"adam\"])\n",
    "    model.compile(optimizer=optimizer, loss=\"sparse_categorical_crossentropy\", metrics=[\"accuracy\"])\n",
    "    \n",
    "    return model"
   ]
  },
  {
   "cell_type": "code",
   "execution_count": 8,
   "id": "e6c90894-4949-4e3a-839a-24520460a906",
   "metadata": {},
   "outputs": [],
   "source": [
    "tuner = kt.BayesianOptimization(build_model, objective=\"val_accuracy\", max_trials=1, executions_per_trial=2, directory=\"mnist_kt_test\", overwrite=True)"
   ]
  },
  {
   "cell_type": "code",
   "execution_count": 9,
   "id": "b8982d27-a500-491f-95cf-ae7ccc352d0a",
   "metadata": {},
   "outputs": [
    {
     "name": "stdout",
     "output_type": "stream",
     "text": [
      "Search space summary\n",
      "Default search space size: 2\n",
      "units (Int)\n",
      "{'default': None, 'conditions': [], 'min_value': 16, 'max_value': 64, 'step': 16, 'sampling': None}\n",
      "optimizer (Choice)\n",
      "{'default': 'rmsprop', 'conditions': [], 'values': ['rmsprop', 'adam'], 'ordered': False}\n"
     ]
    }
   ],
   "source": [
    "tuner.search_space_summary()"
   ]
  },
  {
   "cell_type": "code",
   "execution_count": 10,
   "id": "bca99d3b-f930-4112-a14f-dfe2bae22924",
   "metadata": {},
   "outputs": [
    {
     "name": "stdout",
     "output_type": "stream",
     "text": [
      "Trial 1 Complete [00h 02m 18s]\n",
      "val_accuracy: 0.9690999984741211\n",
      "\n",
      "Best val_accuracy So Far: 0.9690999984741211\n",
      "Total elapsed time: 00h 02m 18s\n",
      "INFO:tensorflow:Oracle triggered exit\n"
     ]
    }
   ],
   "source": [
    "tuner.search(x_train, y_train, batch_size=128, epochs=10, validation_data=(x_val, y_val), callbacks=callbacks, verbose=2)"
   ]
  },
  {
   "cell_type": "code",
   "execution_count": 11,
   "id": "606e3543-580d-4906-a94c-7689700f1875",
   "metadata": {},
   "outputs": [],
   "source": [
    "top_n = 4\n",
    "best_hps = tuner.get_best_hyperparameters(top_n)"
   ]
  },
  {
   "cell_type": "code",
   "execution_count": 12,
   "id": "bbeb1654-6546-456b-b1f2-889f263e8f2d",
   "metadata": {},
   "outputs": [],
   "source": [
    "def get_best_epoch(hp):\n",
    "    model = build_model(hp)\n",
    "    callbacks = [keras.callbacks.EarlyStopping(monitor=\"val_loss\", mode=\"min\", patience=10)]\n",
    "    history = model.fit(x_train, y_train, validation_data=(x_val, y_val), epochs=100, batch_size=128, callbacks=callbacks)\n",
    "    val_loss_per_epoch = history.history[\"val_loss\"]\n",
    "    best_epoch = val_loss_per_epoch.index(min(val_loss_per_epoch)) + 1\n",
    "    print(f\"Best epoch: {best_epoch}\")\n",
    "    return best_epoch, model"
   ]
  },
  {
   "cell_type": "code",
   "execution_count": 13,
   "id": "eac988d1-f4e1-4780-ad51-5727393b5c03",
   "metadata": {},
   "outputs": [],
   "source": [
    "def get_best_trained_model(hp):\n",
    "    best_epoch, model = get_best_epoch(hp)\n",
    "    model.fit(x_train_full, y_train_full, batch_size=128, epochs=int(best_epoch * 1.2))\n",
    "    return model"
   ]
  },
  {
   "cell_type": "code",
   "execution_count": 14,
   "id": "ac9c87c5-e5ab-468b-9529-9c477ed1885f",
   "metadata": {},
   "outputs": [
    {
     "name": "stdout",
     "output_type": "stream",
     "text": [
      "Epoch 1/100\n",
      "391/391 [==============================] - 8s 20ms/step - loss: 0.4585 - accuracy: 0.8794 - val_loss: 0.2469 - val_accuracy: 0.9323\n",
      "Epoch 2/100\n",
      "391/391 [==============================] - 8s 19ms/step - loss: 0.2358 - accuracy: 0.9336 - val_loss: 0.2025 - val_accuracy: 0.9428\n",
      "Epoch 3/100\n",
      "391/391 [==============================] - 7s 19ms/step - loss: 0.1874 - accuracy: 0.9459 - val_loss: 0.1720 - val_accuracy: 0.9521\n",
      "Epoch 4/100\n",
      "391/391 [==============================] - 7s 19ms/step - loss: 0.1577 - accuracy: 0.9543 - val_loss: 0.1508 - val_accuracy: 0.9563\n",
      "Epoch 5/100\n",
      "391/391 [==============================] - 8s 19ms/step - loss: 0.1381 - accuracy: 0.9606 - val_loss: 0.1392 - val_accuracy: 0.9604\n",
      "Epoch 6/100\n",
      "391/391 [==============================] - 7s 18ms/step - loss: 0.1234 - accuracy: 0.9646 - val_loss: 0.1304 - val_accuracy: 0.9632\n",
      "Epoch 7/100\n",
      "391/391 [==============================] - 7s 17ms/step - loss: 0.1115 - accuracy: 0.9677 - val_loss: 0.1256 - val_accuracy: 0.9652\n",
      "Epoch 8/100\n",
      "391/391 [==============================] - 7s 17ms/step - loss: 0.1009 - accuracy: 0.9712 - val_loss: 0.1242 - val_accuracy: 0.9644\n",
      "Epoch 9/100\n",
      "391/391 [==============================] - 7s 17ms/step - loss: 0.0932 - accuracy: 0.9730 - val_loss: 0.1177 - val_accuracy: 0.9649\n",
      "Epoch 10/100\n",
      "391/391 [==============================] - 7s 17ms/step - loss: 0.0855 - accuracy: 0.9754 - val_loss: 0.1154 - val_accuracy: 0.9670\n",
      "Epoch 11/100\n",
      "391/391 [==============================] - 7s 17ms/step - loss: 0.0792 - accuracy: 0.9768 - val_loss: 0.1087 - val_accuracy: 0.9693\n",
      "Epoch 12/100\n",
      "391/391 [==============================] - 7s 17ms/step - loss: 0.0736 - accuracy: 0.9796 - val_loss: 0.1137 - val_accuracy: 0.9681\n",
      "Epoch 13/100\n",
      "391/391 [==============================] - 7s 18ms/step - loss: 0.0691 - accuracy: 0.9801 - val_loss: 0.1199 - val_accuracy: 0.9656\n",
      "Epoch 14/100\n",
      "391/391 [==============================] - 7s 17ms/step - loss: 0.0644 - accuracy: 0.9816 - val_loss: 0.1036 - val_accuracy: 0.9698\n",
      "Epoch 15/100\n",
      "391/391 [==============================] - 7s 17ms/step - loss: 0.0599 - accuracy: 0.9829 - val_loss: 0.1054 - val_accuracy: 0.9700\n",
      "Epoch 16/100\n",
      "391/391 [==============================] - 7s 17ms/step - loss: 0.0571 - accuracy: 0.9837 - val_loss: 0.1012 - val_accuracy: 0.9710\n",
      "Epoch 17/100\n",
      "391/391 [==============================] - 7s 17ms/step - loss: 0.0532 - accuracy: 0.9852 - val_loss: 0.1058 - val_accuracy: 0.9698\n",
      "Epoch 18/100\n",
      "391/391 [==============================] - 7s 19ms/step - loss: 0.0502 - accuracy: 0.9858 - val_loss: 0.1130 - val_accuracy: 0.9693\n",
      "Epoch 19/100\n",
      "391/391 [==============================] - 8s 20ms/step - loss: 0.0472 - accuracy: 0.9869 - val_loss: 0.1033 - val_accuracy: 0.9717\n",
      "Epoch 20/100\n",
      "391/391 [==============================] - 8s 20ms/step - loss: 0.0448 - accuracy: 0.9871 - val_loss: 0.1048 - val_accuracy: 0.9704\n",
      "Epoch 21/100\n",
      "391/391 [==============================] - 8s 20ms/step - loss: 0.0421 - accuracy: 0.9886 - val_loss: 0.1056 - val_accuracy: 0.9717\n",
      "Epoch 22/100\n",
      "391/391 [==============================] - 8s 19ms/step - loss: 0.0405 - accuracy: 0.9891 - val_loss: 0.1042 - val_accuracy: 0.9716\n",
      "Epoch 23/100\n",
      "391/391 [==============================] - 8s 19ms/step - loss: 0.0384 - accuracy: 0.9895 - val_loss: 0.1052 - val_accuracy: 0.9708\n",
      "Epoch 24/100\n",
      "391/391 [==============================] - 8s 19ms/step - loss: 0.0363 - accuracy: 0.9903 - val_loss: 0.1047 - val_accuracy: 0.9722\n",
      "Epoch 25/100\n",
      "391/391 [==============================] - 7s 19ms/step - loss: 0.0347 - accuracy: 0.9905 - val_loss: 0.1082 - val_accuracy: 0.9717\n",
      "Epoch 26/100\n",
      "391/391 [==============================] - 7s 18ms/step - loss: 0.0328 - accuracy: 0.9910 - val_loss: 0.1098 - val_accuracy: 0.9707\n",
      "Best epoch: 16\n",
      "Epoch 1/19\n",
      "469/469 [==============================] - 9s 19ms/step - loss: 0.0444 - accuracy: 0.9883\n",
      "Epoch 2/19\n",
      "469/469 [==============================] - 9s 19ms/step - loss: 0.0410 - accuracy: 0.9888\n",
      "Epoch 3/19\n",
      "469/469 [==============================] - 9s 19ms/step - loss: 0.0379 - accuracy: 0.9892\n",
      "Epoch 4/19\n",
      "469/469 [==============================] - 9s 19ms/step - loss: 0.0358 - accuracy: 0.9903\n",
      "Epoch 5/19\n",
      "469/469 [==============================] - 9s 19ms/step - loss: 0.0338 - accuracy: 0.9909\n",
      "Epoch 6/19\n",
      "469/469 [==============================] - 9s 19ms/step - loss: 0.0319 - accuracy: 0.9915\n",
      "Epoch 7/19\n",
      "469/469 [==============================] - 9s 19ms/step - loss: 0.0303 - accuracy: 0.9921\n",
      "Epoch 8/19\n",
      "469/469 [==============================] - 9s 19ms/step - loss: 0.0288 - accuracy: 0.9923\n",
      "Epoch 9/19\n",
      "469/469 [==============================] - 9s 19ms/step - loss: 0.0273 - accuracy: 0.9928\n",
      "Epoch 10/19\n",
      "469/469 [==============================] - 9s 19ms/step - loss: 0.0256 - accuracy: 0.9932\n",
      "Epoch 11/19\n",
      "469/469 [==============================] - 9s 19ms/step - loss: 0.0249 - accuracy: 0.9936\n",
      "Epoch 12/19\n",
      "469/469 [==============================] - 9s 19ms/step - loss: 0.0238 - accuracy: 0.9942\n",
      "Epoch 13/19\n",
      "469/469 [==============================] - 9s 19ms/step - loss: 0.0223 - accuracy: 0.9944\n",
      "Epoch 14/19\n",
      "469/469 [==============================] - 9s 19ms/step - loss: 0.0216 - accuracy: 0.9946\n",
      "Epoch 15/19\n",
      "469/469 [==============================] - 9s 19ms/step - loss: 0.0209 - accuracy: 0.9948\n",
      "Epoch 16/19\n",
      "469/469 [==============================] - 9s 19ms/step - loss: 0.0191 - accuracy: 0.9952\n",
      "Epoch 17/19\n",
      "469/469 [==============================] - 9s 19ms/step - loss: 0.0184 - accuracy: 0.9956\n",
      "Epoch 18/19\n",
      "469/469 [==============================] - 9s 19ms/step - loss: 0.0178 - accuracy: 0.9958\n",
      "Epoch 19/19\n",
      "469/469 [==============================] - 9s 19ms/step - loss: 0.0171 - accuracy: 0.9962\n",
      "313/313 [==============================] - 1s 3ms/step - loss: 0.1352 - accuracy: 0.9710\n"
     ]
    }
   ],
   "source": [
    "best_models = []\n",
    "for hp in best_hps:\n",
    "    model = get_best_trained_model(hp)\n",
    "    model.evaluate(x_test, y_test)\n",
    "    best_models.append(model)"
   ]
  },
  {
   "cell_type": "code",
   "execution_count": 15,
   "id": "bd42bc88-e70b-4f41-b630-0bf12ff480c8",
   "metadata": {},
   "outputs": [],
   "source": [
    "preds = best_models[0].predict(x_test).tolist()"
   ]
  },
  {
   "cell_type": "code",
   "execution_count": 16,
   "id": "d9bdd684-8e3e-4b89-afc4-30f305a218cd",
   "metadata": {},
   "outputs": [
    {
     "data": {
      "text/plain": [
       "[0.0, 0.0, 0.0, 2.980232238769531e-07, 0.0, 0.0, 0.0, 1.0, 0.0, 0.0]"
      ]
     },
     "execution_count": 16,
     "metadata": {},
     "output_type": "execute_result"
    }
   ],
   "source": [
    "preds[0]"
   ]
  },
  {
   "cell_type": "code",
   "execution_count": 17,
   "id": "05e7dfdf-450d-4212-8fb3-e5ddf0ac513c",
   "metadata": {},
   "outputs": [
    {
     "data": {
      "text/plain": [
       "7"
      ]
     },
     "execution_count": 17,
     "metadata": {},
     "output_type": "execute_result"
    }
   ],
   "source": [
    "preds[0].index(max(preds[0]))"
   ]
  },
  {
   "cell_type": "code",
   "execution_count": 18,
   "id": "e02eead5-8af1-470e-914d-f767f85c3e61",
   "metadata": {},
   "outputs": [],
   "source": [
    "copy = x_test[0]"
   ]
  },
  {
   "cell_type": "code",
   "execution_count": 19,
   "id": "fb5a97ed-81d3-4812-b2d4-c380818d656c",
   "metadata": {},
   "outputs": [],
   "source": [
    "copy = copy.reshape(28, 28, 1)"
   ]
  },
  {
   "cell_type": "code",
   "execution_count": 20,
   "id": "568fe439-90b3-4b23-abcc-2937b30ab5ed",
   "metadata": {},
   "outputs": [
    {
     "data": {
      "text/plain": [
       "(28, 28, 1)"
      ]
     },
     "execution_count": 20,
     "metadata": {},
     "output_type": "execute_result"
    }
   ],
   "source": [
    "copy.shape"
   ]
  },
  {
   "cell_type": "code",
   "execution_count": 21,
   "id": "96de4964-0029-4c81-a627-619c4161d219",
   "metadata": {},
   "outputs": [
    {
     "data": {
      "image/png": "[encoded data removed]",
      "text/plain": [
       "<Figure size 432x288 with 1 Axes>"
      ]
     },
     "metadata": {
      "needs_background": "light"
     },
     "output_type": "display_data"
    }
   ],
   "source": [
    "imgplot = plt.imshow(copy)"
   ]
  },
  {
   "cell_type": "code",
   "execution_count": 23,
   "id": "8acbdf55-00f3-4389-89bb-995b09cbbc8a",
   "metadata": {},
   "outputs": [
    {
     "name": "stdout",
     "output_type": "stream",
     "text": [
      "INFO:tensorflow:Assets written to: mnist_model\\assets\n"
     ]
    }
   ],
   "source": [
    "model.save('mnist_model', save_format=\"tf\")"
   ]
  },
  {
   "cell_type": "code",
   "execution_count": null,
   "id": "b4300043-c402-4956-a338-7a892d54c028",
   "metadata": {},
   "outputs": [],
   "source": []
  }
 ],
 "metadata": {
  "kernelspec": {
   "display_name": "Python 3 (ipykernel)",
   "language": "python",
   "name": "python3"
  },
  "language_info": {
   "codemirror_mode": {
    "name": "ipython",
    "version": 3
   },
   "file_extension": ".py",
   "mimetype": "text/x-python",
   "name": "python",
   "nbconvert_exporter": "python",
   "pygments_lexer": "ipython3",
   "version": "3.9.6"
  }
 },
 "nbformat": 4,
 "nbformat_minor": 5
}
